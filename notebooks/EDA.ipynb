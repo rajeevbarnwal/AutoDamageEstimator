{
 "cells": [
  {
   "cell_type": "code",
   "execution_count": null,
   "metadata": {},
   "outputs": [],
   "source": [
    "import pandas as pd\n",
    "import matplotlib.pyplot as plt\n",
    "import os\n",
    "\n",
    "# Load annotations\n",
    "ann_dir = 'data/annotations/'\n",
    "labels = []\n",
    "for file in os.listdir(ann_dir):\n",
    "    with open(os.path.join(ann_dir, file), 'r') as f:\n",
    "        for line in f:\n",
    "            labels.append(line.split()[0])\n",
    "\n",
    "# Plot label distribution\n",
    "pd.Series(labels).value_counts().plot(kind='bar')\n",
    "plt.title('Label Distribution')\n",
    "plt.show()"
   ]
  }
 ],
 "metadata": {
  "kernelspec": {
   "display_name": "Python 3",
   "language": "python",
   "name": "python3"
  },
  "language_info": {
   "codemirror_mode": {
    "name": "ipython",
    "version": 3
   },
   "file_extension": ".py",
   "mimetype": "text/x-python",
   "name": "python",
   "nbconvert_exporter": "python",
   "pygments_lexer": "ipython3",
   "version": "3.9.7"
  }
 },
 "nbformat": 4,
 "nbformat_minor": 5
}